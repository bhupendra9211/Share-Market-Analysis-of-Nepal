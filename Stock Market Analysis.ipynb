{
 "cells": [
  {
   "cell_type": "markdown",
   "id": "8386ade2",
   "metadata": {},
   "source": [
    "# Step 1 :- Importing Datasets"
   ]
  },
  {
   "cell_type": "code",
   "execution_count": 1,
   "id": "90aa0f13",
   "metadata": {},
   "outputs": [],
   "source": [
    "import pandas as pd\n",
    "lbbl=pd.read_csv('LBBL.csv')\n"
   ]
  },
  {
   "cell_type": "code",
   "execution_count": 3,
   "id": "14a3fcf1",
   "metadata": {},
   "outputs": [],
   "source": [
    "lbbl=pd.read_csv('LBBL.csv',header=0,index_col='Date',parse_dates=True)"
   ]
  },
  {
   "cell_type": "code",
   "execution_count": 4,
   "id": "0f24e893",
   "metadata": {},
   "outputs": [
    {
     "data": {
      "text/html": [
       "<div>\n",
       "<style scoped>\n",
       "    .dataframe tbody tr th:only-of-type {\n",
       "        vertical-align: middle;\n",
       "    }\n",
       "\n",
       "    .dataframe tbody tr th {\n",
       "        vertical-align: top;\n",
       "    }\n",
       "\n",
       "    .dataframe thead th {\n",
       "        text-align: right;\n",
       "    }\n",
       "</style>\n",
       "<table border=\"1\" class=\"dataframe\">\n",
       "  <thead>\n",
       "    <tr style=\"text-align: right;\">\n",
       "      <th></th>\n",
       "      <th>Symbol</th>\n",
       "      <th>Open</th>\n",
       "      <th>High</th>\n",
       "      <th>Low</th>\n",
       "      <th>Close</th>\n",
       "      <th>Percent Change</th>\n",
       "      <th>Volume</th>\n",
       "    </tr>\n",
       "    <tr>\n",
       "      <th>Date</th>\n",
       "      <th></th>\n",
       "      <th></th>\n",
       "      <th></th>\n",
       "      <th></th>\n",
       "      <th></th>\n",
       "      <th></th>\n",
       "      <th></th>\n",
       "    </tr>\n",
       "  </thead>\n",
       "  <tbody>\n",
       "    <tr>\n",
       "      <th>2021-12-29</th>\n",
       "      <td>LBBL</td>\n",
       "      <td>445.7</td>\n",
       "      <td>445.7</td>\n",
       "      <td>427.0</td>\n",
       "      <td>430.2</td>\n",
       "      <td>-1.56</td>\n",
       "      <td>37355</td>\n",
       "    </tr>\n",
       "    <tr>\n",
       "      <th>2021-12-28</th>\n",
       "      <td>LBBL</td>\n",
       "      <td>438.0</td>\n",
       "      <td>448.0</td>\n",
       "      <td>422.0</td>\n",
       "      <td>437.0</td>\n",
       "      <td>1.65</td>\n",
       "      <td>55587</td>\n",
       "    </tr>\n",
       "    <tr>\n",
       "      <th>2021-12-27</th>\n",
       "      <td>LBBL</td>\n",
       "      <td>461.0</td>\n",
       "      <td>461.0</td>\n",
       "      <td>427.0</td>\n",
       "      <td>429.9</td>\n",
       "      <td>-5.1</td>\n",
       "      <td>86428</td>\n",
       "    </tr>\n",
       "    <tr>\n",
       "      <th>2021-12-26</th>\n",
       "      <td>LBBL</td>\n",
       "      <td>456.0</td>\n",
       "      <td>465.0</td>\n",
       "      <td>446.0</td>\n",
       "      <td>453.0</td>\n",
       "      <td>0.44</td>\n",
       "      <td>79223</td>\n",
       "    </tr>\n",
       "    <tr>\n",
       "      <th>2021-12-23</th>\n",
       "      <td>LBBL</td>\n",
       "      <td>466.1</td>\n",
       "      <td>468.0</td>\n",
       "      <td>441.1</td>\n",
       "      <td>451.0</td>\n",
       "      <td>-1.31</td>\n",
       "      <td>74536</td>\n",
       "    </tr>\n",
       "  </tbody>\n",
       "</table>\n",
       "</div>"
      ],
      "text/plain": [
       "           Symbol   Open   High    Low  Close Percent Change  Volume\n",
       "Date                                                                \n",
       "2021-12-29   LBBL  445.7  445.7  427.0  430.2          -1.56   37355\n",
       "2021-12-28   LBBL  438.0  448.0  422.0  437.0           1.65   55587\n",
       "2021-12-27   LBBL  461.0  461.0  427.0  429.9           -5.1   86428\n",
       "2021-12-26   LBBL  456.0  465.0  446.0  453.0           0.44   79223\n",
       "2021-12-23   LBBL  466.1  468.0  441.1  451.0          -1.31   74536"
      ]
     },
     "execution_count": 4,
     "metadata": {},
     "output_type": "execute_result"
    }
   ],
   "source": [
    "lbbl.head(n=5)"
   ]
  },
  {
   "cell_type": "code",
   "execution_count": 5,
   "id": "718feb8e",
   "metadata": {
    "scrolled": true
   },
   "outputs": [
    {
     "data": {
      "text/html": [
       "<div>\n",
       "<style scoped>\n",
       "    .dataframe tbody tr th:only-of-type {\n",
       "        vertical-align: middle;\n",
       "    }\n",
       "\n",
       "    .dataframe tbody tr th {\n",
       "        vertical-align: top;\n",
       "    }\n",
       "\n",
       "    .dataframe thead th {\n",
       "        text-align: right;\n",
       "    }\n",
       "</style>\n",
       "<table border=\"1\" class=\"dataframe\">\n",
       "  <thead>\n",
       "    <tr style=\"text-align: right;\">\n",
       "      <th></th>\n",
       "      <th>Symbol</th>\n",
       "      <th>Open</th>\n",
       "      <th>High</th>\n",
       "      <th>Low</th>\n",
       "      <th>Close</th>\n",
       "      <th>Percent Change</th>\n",
       "      <th>Volume</th>\n",
       "    </tr>\n",
       "    <tr>\n",
       "      <th>Date</th>\n",
       "      <th></th>\n",
       "      <th></th>\n",
       "      <th></th>\n",
       "      <th></th>\n",
       "      <th></th>\n",
       "      <th></th>\n",
       "      <th></th>\n",
       "    </tr>\n",
       "  </thead>\n",
       "  <tbody>\n",
       "    <tr>\n",
       "      <th>2017-07-30</th>\n",
       "      <td>LBBL</td>\n",
       "      <td>226.0</td>\n",
       "      <td>242.0</td>\n",
       "      <td>219.0</td>\n",
       "      <td>220.0</td>\n",
       "      <td>-0.9</td>\n",
       "      <td>102185</td>\n",
       "    </tr>\n",
       "    <tr>\n",
       "      <th>2017-07-27</th>\n",
       "      <td>LBBL</td>\n",
       "      <td>206.0</td>\n",
       "      <td>222.0</td>\n",
       "      <td>206.0</td>\n",
       "      <td>222.0</td>\n",
       "      <td>9.9</td>\n",
       "      <td>30929</td>\n",
       "    </tr>\n",
       "    <tr>\n",
       "      <th>2017-07-26</th>\n",
       "      <td>LBBL</td>\n",
       "      <td>187.0</td>\n",
       "      <td>202.0</td>\n",
       "      <td>187.0</td>\n",
       "      <td>202.0</td>\n",
       "      <td>9.78</td>\n",
       "      <td>70</td>\n",
       "    </tr>\n",
       "    <tr>\n",
       "      <th>2017-07-25</th>\n",
       "      <td>LBBL</td>\n",
       "      <td>171.0</td>\n",
       "      <td>184.0</td>\n",
       "      <td>171.0</td>\n",
       "      <td>184.0</td>\n",
       "      <td>9.52</td>\n",
       "      <td>60</td>\n",
       "    </tr>\n",
       "  </tbody>\n",
       "</table>\n",
       "</div>"
      ],
      "text/plain": [
       "           Symbol   Open   High    Low  Close Percent Change  Volume\n",
       "Date                                                                \n",
       "2017-07-30   LBBL  226.0  242.0  219.0  220.0           -0.9  102185\n",
       "2017-07-27   LBBL  206.0  222.0  206.0  222.0            9.9   30929\n",
       "2017-07-26   LBBL  187.0  202.0  187.0  202.0           9.78      70\n",
       "2017-07-25   LBBL  171.0  184.0  171.0  184.0           9.52      60"
      ]
     },
     "execution_count": 5,
     "metadata": {},
     "output_type": "execute_result"
    }
   ],
   "source": [
    "lbbl.tail(n=4)"
   ]
  },
  {
   "cell_type": "code",
   "execution_count": 7,
   "id": "abff5186",
   "metadata": {},
   "outputs": [
    {
     "data": {
      "text/html": [
       "<div>\n",
       "<style scoped>\n",
       "    .dataframe tbody tr th:only-of-type {\n",
       "        vertical-align: middle;\n",
       "    }\n",
       "\n",
       "    .dataframe tbody tr th {\n",
       "        vertical-align: top;\n",
       "    }\n",
       "\n",
       "    .dataframe thead th {\n",
       "        text-align: right;\n",
       "    }\n",
       "</style>\n",
       "<table border=\"1\" class=\"dataframe\">\n",
       "  <thead>\n",
       "    <tr style=\"text-align: right;\">\n",
       "      <th></th>\n",
       "      <th>Open</th>\n",
       "      <th>High</th>\n",
       "      <th>Low</th>\n",
       "      <th>Close</th>\n",
       "      <th>Volume</th>\n",
       "    </tr>\n",
       "  </thead>\n",
       "  <tbody>\n",
       "    <tr>\n",
       "      <th>count</th>\n",
       "      <td>997.000000</td>\n",
       "      <td>997.000000</td>\n",
       "      <td>997.000000</td>\n",
       "      <td>997.000000</td>\n",
       "      <td>9.970000e+02</td>\n",
       "    </tr>\n",
       "    <tr>\n",
       "      <th>mean</th>\n",
       "      <td>246.233129</td>\n",
       "      <td>251.297894</td>\n",
       "      <td>241.018556</td>\n",
       "      <td>245.744233</td>\n",
       "      <td>5.498474e+04</td>\n",
       "    </tr>\n",
       "    <tr>\n",
       "      <th>std</th>\n",
       "      <td>142.793035</td>\n",
       "      <td>147.743739</td>\n",
       "      <td>136.683298</td>\n",
       "      <td>141.290320</td>\n",
       "      <td>1.106355e+05</td>\n",
       "    </tr>\n",
       "    <tr>\n",
       "      <th>min</th>\n",
       "      <td>141.000000</td>\n",
       "      <td>142.000000</td>\n",
       "      <td>136.000000</td>\n",
       "      <td>142.000000</td>\n",
       "      <td>3.200000e+01</td>\n",
       "    </tr>\n",
       "    <tr>\n",
       "      <th>25%</th>\n",
       "      <td>170.000000</td>\n",
       "      <td>172.000000</td>\n",
       "      <td>169.000000</td>\n",
       "      <td>171.000000</td>\n",
       "      <td>5.942000e+03</td>\n",
       "    </tr>\n",
       "    <tr>\n",
       "      <th>50%</th>\n",
       "      <td>193.000000</td>\n",
       "      <td>195.000000</td>\n",
       "      <td>190.000000</td>\n",
       "      <td>193.000000</td>\n",
       "      <td>1.637700e+04</td>\n",
       "    </tr>\n",
       "    <tr>\n",
       "      <th>75%</th>\n",
       "      <td>226.000000</td>\n",
       "      <td>233.000000</td>\n",
       "      <td>222.000000</td>\n",
       "      <td>227.000000</td>\n",
       "      <td>5.175800e+04</td>\n",
       "    </tr>\n",
       "    <tr>\n",
       "      <th>max</th>\n",
       "      <td>744.300000</td>\n",
       "      <td>774.000000</td>\n",
       "      <td>700.000000</td>\n",
       "      <td>729.800000</td>\n",
       "      <td>1.035540e+06</td>\n",
       "    </tr>\n",
       "  </tbody>\n",
       "</table>\n",
       "</div>"
      ],
      "text/plain": [
       "             Open        High         Low       Close        Volume\n",
       "count  997.000000  997.000000  997.000000  997.000000  9.970000e+02\n",
       "mean   246.233129  251.297894  241.018556  245.744233  5.498474e+04\n",
       "std    142.793035  147.743739  136.683298  141.290320  1.106355e+05\n",
       "min    141.000000  142.000000  136.000000  142.000000  3.200000e+01\n",
       "25%    170.000000  172.000000  169.000000  171.000000  5.942000e+03\n",
       "50%    193.000000  195.000000  190.000000  193.000000  1.637700e+04\n",
       "75%    226.000000  233.000000  222.000000  227.000000  5.175800e+04\n",
       "max    744.300000  774.000000  700.000000  729.800000  1.035540e+06"
      ]
     },
     "execution_count": 7,
     "metadata": {},
     "output_type": "execute_result"
    }
   ],
   "source": [
    "lbbl.describe()"
   ]
  },
  {
   "cell_type": "code",
   "execution_count": 12,
   "id": "a649d17b",
   "metadata": {},
   "outputs": [
    {
     "data": {
      "text/plain": [
       "Index(['Symbol', 'Open', 'High', 'Low', 'Close', 'Percent Change', 'Volume'], dtype='object')"
      ]
     },
     "execution_count": 12,
     "metadata": {},
     "output_type": "execute_result"
    }
   ],
   "source": [
    "lbbl.columns"
   ]
  },
  {
   "cell_type": "code",
   "execution_count": 13,
   "id": "a7efb2b0",
   "metadata": {},
   "outputs": [
    {
     "data": {
      "text/plain": [
       "DatetimeIndex(['2021-12-29', '2021-12-28', '2021-12-27', '2021-12-26',\n",
       "               '2021-12-23', '2021-12-22', '2021-12-21', '2021-12-20',\n",
       "               '2021-12-16', '2021-12-15',\n",
       "               ...\n",
       "               '2017-07-08', '2017-06-08', '2017-03-08', '2017-02-08',\n",
       "               '2017-01-08', '2017-07-31', '2017-07-30', '2017-07-27',\n",
       "               '2017-07-26', '2017-07-25'],\n",
       "              dtype='datetime64[ns]', name='Date', length=997, freq=None)"
      ]
     },
     "execution_count": 13,
     "metadata": {},
     "output_type": "execute_result"
    }
   ],
   "source": [
    "lbbl.index"
   ]
  },
  {
   "cell_type": "code",
   "execution_count": 14,
   "id": "81299d8b",
   "metadata": {},
   "outputs": [
    {
     "data": {
      "text/plain": [
       "(997, 7)"
      ]
     },
     "execution_count": 14,
     "metadata": {},
     "output_type": "execute_result"
    }
   ],
   "source": [
    "lbbl.shape"
   ]
  },
  {
   "cell_type": "code",
   "execution_count": null,
   "id": "1d705f70",
   "metadata": {},
   "outputs": [],
   "source": []
  }
 ],
 "metadata": {
  "kernelspec": {
   "display_name": "Python 3 (ipykernel)",
   "language": "python",
   "name": "python3"
  },
  "language_info": {
   "codemirror_mode": {
    "name": "ipython",
    "version": 3
   },
   "file_extension": ".py",
   "mimetype": "text/x-python",
   "name": "python",
   "nbconvert_exporter": "python",
   "pygments_lexer": "ipython3",
   "version": "3.9.1"
  }
 },
 "nbformat": 4,
 "nbformat_minor": 5
}
